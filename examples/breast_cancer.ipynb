{
 "cells": [
  {
   "cell_type": "code",
   "execution_count": 8,
   "metadata": {},
   "outputs": [],
   "source": [
    "import torch\n",
    "import pandas as pd\n",
    "import matplotlib.pyplot as plt\n",
    "import numpy as np\n",
    "import leapfrog as lf\n",
    "\n",
    "from torch import nn\n",
    "from torch.utils.data import DataLoader, TensorDataset\n",
    "from sklearn.preprocessing import StandardScaler\n",
    "from sklearn.datasets import load_breast_cancer\n",
    "from sklearn.model_selection import KFold\n",
    "from sklearn import metrics"
   ]
  },
  {
   "cell_type": "code",
   "execution_count": 9,
   "metadata": {},
   "outputs": [],
   "source": [
    "X = StandardScaler().fit_transform(load_breast_cancer()['data'])\n",
    "y = load_breast_cancer()['target']"
   ]
  },
  {
   "cell_type": "code",
   "execution_count": 10,
   "metadata": {},
   "outputs": [],
   "source": [
    "class Model(nn.Module):\n",
    "    def __init__(self, num1, num2):\n",
    "        super(Model, self).__init__()\n",
    "        self.linear1 = lf.Linear(30, 10, num1)\n",
    "        self.linear2 = lf.Linear(10,  1, num2)\n",
    "        # Reset seed whenever a new model is generated\n",
    "        torch.manual_seed(0)\n",
    "\n",
    "    def forward(self, x):\n",
    "        x = self.linear1(x)\n",
    "        x = torch.tanh(x)\n",
    "        x = self.linear2(x)\n",
    "        x = torch.sigmoid(x)\n",
    "        return x"
   ]
  },
  {
   "cell_type": "markdown",
   "metadata": {},
   "source": [
    "---\n",
    "## Train model\n",
    "---"
   ]
  },
  {
   "cell_type": "code",
   "execution_count": 11,
   "metadata": {},
   "outputs": [],
   "source": [
    "model = Model([10], [10])\n",
    "# Logistic regression models are trained using the binary cross-entropy\n",
    "loss_function = torch.nn.BCELoss()\n",
    "# We use a standard optimizer such as Adam...\n",
    "optimizer     = torch.optim.Adam(model.parameters(), lr=0.001)\n",
    "# and augment it with a Leapfrog optimizer that performs the\n",
    "# regularization steps\n",
    "optimizer     = lf.Optimizer(optimizer, tolerance=1e-8)\n",
    "# A maximum of max_epochs is used for training\n",
    "max_epochs    = 1000\n",
    "\n",
    "trainloader   = DataLoader(\n",
    "  TensorDataset(torch.Tensor(X), torch.Tensor(y)),\n",
    "  batch_size=int(X.shape[0]),\n",
    "  shuffle=False,\n",
    "  num_workers=1)\n",
    "\n",
    "# Record the regularization strength lambda\n",
    "l_      = []\n",
    "# Record the loss\n",
    "loss_   = []\n",
    "for _epoch in range(0, max_epochs):\n",
    "  # Iterate over the DataLoader for training data\n",
    "  for i, data in enumerate(trainloader, 0):\n",
    "    # Get X (inputs) and y (targets)\n",
    "    inputs, targets = data\n",
    "    # Reset gradient\n",
    "    optimizer.zero_grad()\n",
    "    # Evaluate model\n",
    "    outputs = torch.flatten(model(inputs))\n",
    "    # Compute loss\n",
    "    loss = loss_function(outputs, targets)\n",
    "    # Backpropagate gradient\n",
    "    loss.backward()\n",
    "    # Perform one gradient descent step\n",
    "    optimizer.step()\n",
    "    # Record loss\n",
    "    loss_.append(loss.item())\n",
    "    # Record lambda (weight decay)\n",
    "    weight_decay = optimizer.get_weight_decay()\n",
    "    # Each layer and output node has its own weight decay parameter. We\n",
    "    # have only one layer and output node.\n",
    "    l_.append(weight_decay[0][0].item())\n",
    "\n",
    "    #print(f'Loss: {loss.item()}')"
   ]
  },
  {
   "cell_type": "code",
   "execution_count": 12,
   "metadata": {},
   "outputs": [
    {
     "data": {
      "text/plain": [
       "Text(0, 0.5, 'penalty')"
      ]
     },
     "execution_count": 12,
     "metadata": {},
     "output_type": "execute_result"
    },
    {
     "data": {
      "image/png": "[encoded data removed]",
      "text/plain": [
       "<Figure size 432x288 with 2 Axes>"
      ]
     },
     "metadata": {
      "needs_background": "light"
     },
     "output_type": "display_data"
    }
   ],
   "source": [
    "fig, ax1 = plt.subplots()\n",
    "ax2 = ax1.twinx()\n",
    "ax1.plot(loss_, 'g-')\n",
    "ax2.plot(l_, 'b-')\n",
    "ax1.set_ylabel('loss', color='g')\n",
    "ax2.set_yscale('log')\n",
    "ax2.set_ylabel('penalty', color='b')"
   ]
  },
  {
   "cell_type": "markdown",
   "metadata": {},
   "source": [
    "---\n",
    "## Cross-validation\n",
    "---"
   ]
  },
  {
   "cell_type": "code",
   "execution_count": 13,
   "metadata": {},
   "outputs": [
    {
     "name": "stdout",
     "output_type": "stream",
     "text": [
      "Training process has finished.\n",
      "Training process has finished.\n",
      "Training process has finished.\n",
      "Training process has finished.\n",
      "Training process has finished.\n",
      "Training process has finished.\n",
      "Training process has finished.\n",
      "Training process has finished.\n",
      "Training process has finished.\n",
      "Training process has finished.\n"
     ]
    }
   ],
   "source": [
    "# Logistic regression models are trained using the binary cross-entropy\n",
    "loss_function = torch.nn.BCELoss()\n",
    "# A maximum of max_epochs is used for training\n",
    "max_epochs    = 1000\n",
    "\n",
    "# Record test labels\n",
    "r_y_test = np.array([])\n",
    "# Record predictions\n",
    "r_y_pred = np.array([])\n",
    "\n",
    "kf = KFold(n_splits=10)\n",
    "\n",
    "for train_index, test_index in kf.split(X, y=y, groups=y):\n",
    "  X_train, X_test = X[train_index], X[test_index]\n",
    "  y_train, y_test = y[train_index], y[test_index]\n",
    "\n",
    "  trainloader = DataLoader(TensorDataset(torch.Tensor(X_train), torch.Tensor(y_train)), batch_size=X_train.shape[0], shuffle=True, num_workers=1)\n",
    "  testloader  = DataLoader(TensorDataset(torch.Tensor(X_test ), torch.Tensor(y_test )), batch_size=X_test .shape[0], shuffle=True, num_workers=1)\n",
    "\n",
    "  model = Model([20], [10])\n",
    "  optimizer = torch.optim.Adam(model.parameters(), lr=0.0005)\n",
    "  optimizer = lf.Optimizer(optimizer, 1e-8)\n",
    "\n",
    "  for _epoch in range(0, max_epochs): # 5 epochs at maximum    \n",
    "    # Iterate over the DataLoader for training data\n",
    "    for i, data in enumerate(trainloader, 0):\n",
    "      # Get inputs\n",
    "      inputs, targets = data\n",
    "      # Reset gradient\n",
    "      optimizer.zero_grad()\n",
    "      # Evaluate model\n",
    "      outputs = torch.flatten(model(inputs))\n",
    "      # Compute loss\n",
    "      loss = loss_function(outputs, targets)\n",
    "      loss.backward()\n",
    "      # Perform optimization\n",
    "      optimizer.step()\n",
    "\n",
    "      #print(f'Loss: {loss.item()}')\n",
    "\n",
    "    # check if converged\n",
    "    if optimizer.converged(loss.item()):\n",
    "      break\n",
    "  # Process is complete.\n",
    "  print('Training process has finished.')\n",
    "\n",
    "  with torch.no_grad():\n",
    "    # evaluate model\n",
    "    for i, data in enumerate(testloader, 0):\n",
    "\n",
    "      inputs, targets = data\n",
    "\n",
    "      outputs = model(inputs)\n",
    "\n",
    "      r_y_test = np.append(r_y_test, targets.numpy())\n",
    "      r_y_pred = np.append(r_y_pred, outputs.flatten().numpy())"
   ]
  },
  {
   "cell_type": "code",
   "execution_count": 14,
   "metadata": {},
   "outputs": [
    {
     "data": {
      "text/plain": [
       "[<matplotlib.lines.Line2D at 0x7fa6606f1160>]"
      ]
     },
     "execution_count": 14,
     "metadata": {},
     "output_type": "execute_result"
    },
    {
     "data": {
      "image/png": "[encoded data removed]",
      "text/plain": [
       "<Figure size 432x288 with 1 Axes>"
      ]
     },
     "metadata": {
      "needs_background": "light"
     },
     "output_type": "display_data"
    }
   ],
   "source": [
    "fpr, tpr, _ = metrics.roc_curve(r_y_test,  r_y_pred)\n",
    "plt.plot(fpr,tpr, lw=2, color=\"darkorange\")"
   ]
  },
  {
   "cell_type": "code",
   "execution_count": null,
   "metadata": {},
   "outputs": [],
   "source": []
  }
 ],
 "metadata": {
  "interpreter": {
   "hash": "03df5f8c28a18fad13a74a6712f94a0dff5e5b0c0760c87e96407d948a5a6891"
  },
  "kernelspec": {
   "display_name": "Python 3.8.12 64-bit ('base': conda)",
   "name": "python3"
  },
  "language_info": {
   "codemirror_mode": {
    "name": "ipython",
    "version": 3
   },
   "file_extension": ".py",
   "mimetype": "text/x-python",
   "name": "python",
   "nbconvert_exporter": "python",
   "pygments_lexer": "ipython3",
   "version": "3.8.12"
  },
  "orig_nbformat": 4
 },
 "nbformat": 4,
 "nbformat_minor": 2
}
